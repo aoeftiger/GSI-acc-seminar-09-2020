{
 "cells": [
  {
   "cell_type": "markdown",
   "metadata": {
    "slideshow": {
     "slide_type": "slide"
    }
   },
   "source": [
    "# Simulation of Intense Beams in Synchrotrons\n",
    "\n",
    "### ... a story of resonances and instabilities.\n",
    "\n",
    "<br /><br />\n",
    "\n",
    "##### a notebook talk by [Adrian Oeftiger $\\nearrow$](http://oeftiger.net/)\n",
    "\n",
    "in the [GSI Accelerator Seminar on 3 September 2020 $\\nearrow$](https://indico.gsi.de/event/10059/). See also [rendered talk on github $\\nearrow$](https://aoeftiger.github.io/GSI-acc-seminar-09-2020/) and [source in github repo $\\nearrow$](https://github.com/aoeftiger/GSI-acc-seminar-09-2020/).\n",
    "\n",
    "<br />\n",
    "<center>\n",
    "    <small>(hit space to go to the next slide)</small>\n",
    "</center>"
   ]
  },
  {
   "cell_type": "markdown",
   "metadata": {
    "slideshow": {
     "slide_type": "slide"
    }
   },
   "source": [
    "# Goals of this talk\n",
    "\n",
    "- showcase new simulation suite for SIS18 and SIS100\n",
    "\n",
    "- no theory, rather hands-on experience\n",
    "\n",
    "- practical modelling examples with live simulations\n",
    "\n",
    "- give overview of applications"
   ]
  },
  {
   "cell_type": "markdown",
   "metadata": {
    "slideshow": {
     "slide_type": "slide"
    }
   },
   "source": [
    "# Abstract\n",
    "\n",
    "<small><p>\n",
    "This introduction on collective beam dynamics focuses on high-intensity effects\n",
    "in synchrotrons like SIS18 or SIS100.\n",
    "The charged particles in the beam interact\n",
    "(a.) with the beam self-fields they produce and\n",
    "(b.) with the induced currents in the vacuum pipe.\n",
    "This interaction leads to corresponding collective effects, \n",
    "such as \"space charge\" (self-field interaction) or \n",
    "\"beam coupling impedance\" (interaction with the surroundings). \n",
    "The beam can become resonantly excited or is even driven into \n",
    "exponential instabilities over many revolutions in the circular accelerator. \n",
    "These effects potentially limit the performance, they scale with the \n",
    "number of particles in the beam: their understanding (and mitigation) \n",
    "is crucial to safely operate synchrotrons like SIS100 at highest beam intensities.\n",
    "</p><p>\n",
    "We dive into the world of these collective effects in beam physics, \n",
    "exploring their mechanisms and how they can lead to beam loss. \n",
    "During the talk, we also look behind the scenes on how to \n",
    "numerically model such long-term effects, in particular employing \n",
    "high-performance techniques such as GPU computing.\n",
    "</p></small>"
   ]
  },
  {
   "cell_type": "markdown",
   "metadata": {
    "slideshow": {
     "slide_type": "slide"
    }
   },
   "source": [
    "# How to run this notebook at GSI:\n",
    "\n",
    "Connect to the GSI high-performance computing cluster `virgo.hpc` (with port forwarding), load the accelerator physics environment and run the jupyter notebook server:"
   ]
  },
  {
   "cell_type": "markdown",
   "metadata": {
    "slideshow": {
     "slide_type": "subslide"
    }
   },
   "source": [
    "```bash\n",
    "$ ssh virgo.hpc -L 8888:localhost:8888\n",
    "$ singularity exec --bind /cvmfs \\\n",
    "    /cvmfs/vae.gsi.de/centos7/containers/user_container-develop.sif \\\n",
    "    bash -l\n",
    "Singularity> cd /cvmfs/aph.gsi.de/\n",
    "Singularity> source modules.sh\n",
    "Singularity> module load aph_all\n",
    "Singularity> cd\n",
    "Singularity> git clone https://github.com/aoeftiger/GSI-acc-seminar-09-2020\n",
    "Singularity> cd GSI-acc-seminar-09-2020\n",
    "Singularity> jupyter notebook --no-browser --port=8888\n",
    "```\n",
    "\n",
    "... and you're ready to open your local browser and type in `localhost:8888`, where you open this notebook."
   ]
  },
  {
   "cell_type": "markdown",
   "metadata": {
    "slideshow": {
     "slide_type": "subslide"
    }
   },
   "source": [
    "## How to run this notebook on your individual workstation:\n",
    "\n",
    "Install [`PyHEADTAIL` $\\nearrow$](https://pypi.org/project/PyHEADTAIL/), [`cpymad` $\\nearrow$](https://pypi.org/project/cpymad/), [`PySixTrack` $\\nearrow$](https://github.com/SixTrack/pysixtrack/) and [`SixTrackLib` $\\nearrow$](https://github.com/SixTrack/sixtracklib) in your `python3` environment and run this `jupyter notebook`.\n",
    "\n",
    "_Note_: if you don't have `openCL` drivers installed, replace all `device=...` instructions in SixTrackLib within this notebook by `device=None` to run on a normal single CPU thread."
   ]
  },
  {
   "cell_type": "markdown",
   "metadata": {
    "slideshow": {
     "slide_type": "slide"
    }
   },
   "source": [
    "# Simulation of Intense Beams in Synchrotrons\n",
    "\n",
    "### ... a story of resonances and instabilities."
   ]
  },
  {
   "cell_type": "markdown",
   "metadata": {
    "slideshow": {
     "slide_type": "slide"
    }
   },
   "source": [
    "# Structure\n",
    "\n",
    "1. `PyHEADTAIL`: collective beam dynamics\n",
    "2. Wakefields &amp; 1st Order Coherent Instabilities\n",
    "3. `SixTrackLib`: symplectic non-linear 6D tracking\n",
    "4. Space Charge &amp; Resonances and 2nd Order Coherent Instabilities"
   ]
  },
  {
   "cell_type": "markdown",
   "metadata": {
    "slideshow": {
     "slide_type": "slide"
    }
   },
   "source": [
    "# Beam dynamics\n",
    "\n",
    "3D particle motion $\\leadsto$ 6 phase space coordinates:\n",
    "$$\\mathbb{X}=(\\underbrace{x, x'\\vphantom{y'}}_{horizontal}, \\underbrace{y, y'}_{vertical}, \\underbrace{z, \\delta\\vphantom{y'}}_{longitudinal})$$\n",
    "\n",
    "A beam $=$ state of $N$ macro-particles $=$ $6N$ values of phase space coordinates"
   ]
  },
  {
   "cell_type": "markdown",
   "metadata": {
    "slideshow": {
     "slide_type": "fragment"
    }
   },
   "source": [
    "## Simulations:\n",
    "* typically up to $\\mathcal{O}(10^6)$ macro-particles\n",
    "* accelerator elements to track through: up to $\\mathcal{O}(1000)$\n",
    "* simulations can last up to $\\mathcal{O}(10^6)$ turns \n",
    "* particle-to-particle interaction: binning, FFT, convolution, particle-in-cell, Poisson solvers"
   ]
  },
  {
   "cell_type": "markdown",
   "metadata": {
    "slideshow": {
     "slide_type": "slide"
    }
   },
   "source": [
    "# Requirements for simulation tools\n",
    "\n",
    "* **accurate**: long-term evolution $\\leadsto$ double precision\n",
    "* **fast**: heavy number crunching $\\leadsto$ high-performance computing (HPC)<br />(multi-core CPU, multi-nodes (MPI) or GPU parallelisation, in particular for _collective effects_)\n",
    "* **flexible**: iterative development of accelerator models with frequent updates $\\leadsto$ python\n",
    "\n",
    "\n",
    "<center>\n",
    "<img src=\"images/python.png\" alt=\"python logo\" style=\"width:30%;\"/>\n",
    "</center>"
   ]
  },
  {
   "cell_type": "markdown",
   "metadata": {
    "slideshow": {
     "slide_type": "slide"
    }
   },
   "source": [
    "# The macro-particle simulation model\n",
    "\n",
    "**single-particle physics** $\\implies$ <span style=\"color:#00aad4;\">\"tracking\"</span>: particle motion due to external focusing (magnets and RF cavities)\n",
    "\n",
    "**multi-particle physics** $\\implies$ <span style=\"color:#aa0000;\">\"collective effect kicks\"</span>: direct and indirect particle-to-particle interaction\n",
    "\n",
    "<center>\n",
    "<img src=\"images/transverse-model_empty.png\" alt=\"sketch of one-turn map for ring\" style=\"width:30%;\"/>\n",
    "Tracking around the accelerator ring\n",
    "</center>"
   ]
  },
  {
   "cell_type": "markdown",
   "metadata": {
    "slideshow": {
     "slide_type": "slide"
    }
   },
   "source": [
    "# Many macro-particle codes...\n",
    "\n",
    "... with (transverse) collective effects for synchrotrons, e.g.:\n",
    "\n",
    "- `PATRIC` (GSI)\n",
    "- `MICROMAP` (GSI)\n",
    "- `IMPACT` (Berkeley)\n",
    "- `Synergia` (Fermilab)\n",
    "- `(Py)ORBIT` (SNS)\n",
    "- `SIMPSONS` (J-PARC)\n",
    "- `elegant` (Argonne)\n",
    "- `MAD-X SC` (CERN)\n",
    "- `HEADTAIL`/`PyHEADTAIL` (CERN, GSI)\n",
    "- ..."
   ]
  },
  {
   "cell_type": "markdown",
   "metadata": {
    "slideshow": {
     "slide_type": "slide"
    }
   },
   "source": [
    "# 1. `PyHEADTAIL`: collective beam dynamics"
   ]
  },
  {
   "cell_type": "markdown",
   "metadata": {
    "slideshow": {
     "slide_type": "slide"
    }
   },
   "source": [
    "# The `PyHEADTAIL` library\n",
    "\n",
    "GPU-enabled, python based code for simulating collective beam dynamics in synchrotrons: [github repo $\\nearrow$](https://github.com/PyCOMPLETE/PyHEADTAIL)\n",
    "\n",
    "$\\implies$ matrix-based transverse and non-linear longitudinal <span style=\"color:#00aad4;\">tracking</span>\n",
    "\n",
    "$\\implies$ detailed models for <span style=\"color:#aa0000;\">collective effect kicks</span>\n",
    "\n",
    "<center>\n",
    "<img src=\"images/wakefield.png\" alt=\"wake field sketch\" style=\"width:30%;\"/>\n",
    "Kick example: wakefield from leading particles affects trailing particles\n",
    "</center>"
   ]
  },
  {
   "cell_type": "markdown",
   "metadata": {
    "slideshow": {
     "slide_type": "slide"
    }
   },
   "source": [
    "# `PyHEADTAIL` on one slide\n",
    "\n",
    "- origin: `C` code `HEADTAIL` by G. Rumolo (2000), 5 PR-STAB and 2 PRL papers\n",
    "- modernised `PyHEADTAIL` used for:\n",
    "    - **impedance-driven instabilities**: head-tail modes, transverse mode coupling instability (TMCI), coupled-bunch instabilities, ...\n",
    "    - **space charge**\n",
    "    - **electron cloud instabilities**\n",
    "    - **mitigation techniques**: feedbacks, octupoles for Landau damping, multi-harmonic RF, ...\n",
    "\n",
    "<center>\n",
    "<div style='display: table; width: 30%;'>\n",
    "    <div style='display: table-row; clear: both;'>\n",
    "        <div style='float: left; display: table-cell; width: 50%;'>\n",
    "            <img src='images/pyheadtail-instability.png' alt='head-tail instability' style='width: 90%;' />\n",
    "        </div>\n",
    "        <div style='float: left; display: table-cell; width: 50%;'>\n",
    "            <img src='images/pyheadtail-tmci.png' alt='TMCI' style='width: 90%;' />\n",
    "        </div>\n",
    "    </div>\n",
    "    <div style='display: table-row; clear: both;'>\n",
    "        <div style='float: left; display: table-cell; width: 50%;'>\n",
    "            <img src='images/pyheadtail-pinch.png' alt='e-cloud pinch' style='width: 90%;' />\n",
    "        </div>\n",
    "        <div style='float: left; display: table-cell; width: 50%;'>\n",
    "            <img src='images/pyheadtail-hollow.png' alt='hollow bunching as mitigation' style='width: 90%;' />\n",
    "        </div>\n",
    "    </div>\n",
    "</div>\n",
    "</center>"
   ]
  },
  {
   "cell_type": "markdown",
   "metadata": {
    "slideshow": {
     "slide_type": "slide"
    }
   },
   "source": [
    "# `PyHEADTAIL` modules\n",
    "\n",
    "- wakefields:\n",
    "    - resistive wall\n",
    "    - broad-band resonator\n",
    "    - custom wake tables\n",
    "- space charge \n",
    "    - selfconsistent PIC\n",
    "        - longitudinal, (slice-by-slice) transverse, 3D\n",
    "        - open boundary Green's function (FFT)\n",
    "        - open/rectangular boundary finite difference\n",
    "    - frozen / adaptive field maps"
   ]
  },
  {
   "cell_type": "markdown",
   "metadata": {
    "slideshow": {
     "slide_type": "subslide"
    }
   },
   "source": [
    "\n",
    "- feedback (ideal and realistic [separate version])\n",
    "- RF quadrupoles\n",
    "- synchrotron radiation\n",
    "- e-cloud pinch\n",
    "- e-lens"
   ]
  },
  {
   "cell_type": "markdown",
   "metadata": {
    "slideshow": {
     "slide_type": "slide"
    }
   },
   "source": [
    "# Active development at CERN and GSI\n",
    "\n",
    "Contributions from $>13$ developers since 2014\n",
    "\n",
    "<center>\n",
    "    <img src=\"images/git-pyheadtail.png\" alt=\"github activity on github repo\" style=\"width:30%;\" />\n",
    "</center>"
   ]
  },
  {
   "cell_type": "markdown",
   "metadata": {
    "slideshow": {
     "slide_type": "slide"
    }
   },
   "source": [
    "# Resources\n",
    "\n",
    "- [PyHEADTAIL playground $\\nearrow$](https://github.com/PyCOMPLETE/PyHEADTAIL-playground/): interactive tutorials\n",
    "- [Overview of PyHEADTAIL $\\nearrow$](https://cds.cern.ch/record/2672381/): Oeftiger, A. _An Overview of PyHEADTAIL._ CERN-ACC-NOTE-2019-0013.\n",
    "- [PyHEADTAIL + SixTrackLib on GPU $\\nearrow$](https://github.com/aoeftiger/pyhep2020): interactive notebook talk\n",
    "- [SWAN beam dynamics gallery $\\nearrow$](https://swan.web.cern.ch/swan/content/beam-dynamics.html): CERN platform to launch tutorials\n",
    "\n",
    "<img src='images/swan-bd-gallery.png' alt='SWAN beam dynamics gallery' style='width: 10%; margin: auto;' />"
   ]
  },
  {
   "cell_type": "markdown",
   "metadata": {
    "slideshow": {
     "slide_type": "slide"
    }
   },
   "source": [
    "# 2. Wakefields &amp; Dipole Moment Instabilities"
   ]
  },
  {
   "cell_type": "markdown",
   "metadata": {
    "slideshow": {
     "slide_type": "slide"
    }
   },
   "source": [
    "# `PyHEADTAIL` wake model\n",
    "\n",
    "<br />\n",
    "\n",
    "<center>\n",
    "    <img src=\"images/pyheadtail-wakemodel.png\" alt=\"bunch and wakefield discretisation into slices\" />\n",
    "    <small><a href=\"https://www2.kek.jp/accl/seminar/file/PyHEADTAIL_PyECLOUD_2.pdf\">courtesy Michael Schenk</a></small>\n",
    "</center>"
   ]
  },
  {
   "cell_type": "markdown",
   "metadata": {
    "slideshow": {
     "slide_type": "slide"
    }
   },
   "source": [
    "# Dipole wake fields (driving impedance)\n",
    "\n",
    "Transverse kick on slice $i$ from previous slices due to wake $W_d$:\n",
    "\n",
    "$$\\Delta x'[i] \\propto \\sum\\limits_{j=0}^i N[j] \\quad \\langle x \\rangle [j] \\quad W_d(z[i] - z[j])$$\n",
    "\n",
    "- no synchrotron motion:\n",
    "    - kicks accumulate, linac-like **beam breakup**\n",
    "\n",
    "- with synchrotron motion: feedback loop\n",
    "    - chroma $Q'=0$: \n",
    "        - synchrotron sidebands separate $\\rightarrow$ **stable beam**\n",
    "        - synchrotron sidebands couple $\\rightarrow$ transverse mode coupling **instability**\n",
    "    - chroma $Q'\\neq 0$: **head-tail instability**"
   ]
  },
  {
   "cell_type": "markdown",
   "metadata": {
    "slideshow": {
     "slide_type": "slide"
    }
   },
   "source": [
    "# Simulating head-tail instability in SIS100\n",
    "\n",
    "$\\rightarrow$ use `PyHEADTAIL` to simulate head-tail instability due to resistive wall impedance of SIS100 vacuum tube:"
   ]
  },
  {
   "cell_type": "code",
   "execution_count": null,
   "metadata": {},
   "outputs": [],
   "source": [
    "# set up plotting etc\n",
    "from imports import *"
   ]
  },
  {
   "cell_type": "markdown",
   "metadata": {},
   "source": [
    "Importing PyHEADTAIL:"
   ]
  },
  {
   "cell_type": "code",
   "execution_count": null,
   "metadata": {},
   "outputs": [],
   "source": [
    "import PyHEADTAIL"
   ]
  },
  {
   "cell_type": "markdown",
   "metadata": {
    "slideshow": {
     "slide_type": "slide"
    }
   },
   "source": [
    "# Setting up <span style=\"color:#00aad4;\">tracking</span> around the SIS100 ring\n",
    "\n",
    "Transverse tracking:"
   ]
  },
  {
   "cell_type": "code",
   "execution_count": null,
   "metadata": {},
   "outputs": [],
   "source": [
    "from PyHEADTAIL.trackers.transverse_tracking import TransverseMap\n",
    "from PyHEADTAIL.trackers.detuners import Chromaticity\n",
    "\n",
    "from pyheadtail_setup import transverse_map_kwargs, Q_x, Q_y\n",
    "print ('chosen horizontal tune: {:.2f}, vertical tune: {:.2f}'.format(Q_x, Q_y))"
   ]
  },
  {
   "cell_type": "markdown",
   "metadata": {},
   "source": [
    "Low, slightly positive chromaticity below transition $=$ strong growth rate of rigid bunch mode"
   ]
  },
  {
   "cell_type": "code",
   "execution_count": null,
   "metadata": {},
   "outputs": [],
   "source": [
    "transverse_map = TransverseMap(\n",
    "    detuners=[Chromaticity(\n",
    "        Qp_x=5, Qp_y=5)],\n",
    "    **transverse_map_kwargs,\n",
    ")"
   ]
  },
  {
   "cell_type": "markdown",
   "metadata": {
    "slideshow": {
     "slide_type": "subslide"
    }
   },
   "source": [
    "Longitudinal tracking:"
   ]
  },
  {
   "cell_type": "code",
   "execution_count": null,
   "metadata": {},
   "outputs": [],
   "source": [
    "from PyHEADTAIL.trackers.longitudinal_tracking import RFSystems\n",
    "\n",
    "from pyheadtail_setup import longitudinal_map_kwargs"
   ]
  },
  {
   "cell_type": "code",
   "execution_count": null,
   "metadata": {},
   "outputs": [],
   "source": [
    "longitudinal_map = RFSystems(**longitudinal_map_kwargs)"
   ]
  },
  {
   "cell_type": "markdown",
   "metadata": {
    "slideshow": {
     "slide_type": "slide"
    }
   },
   "source": [
    "# Setting up <span style=\"color:#aa0000;\">collective effect kick</span>\n",
    "\n",
    "Simulate wakefields in bunch via circular resistive wall model:"
   ]
  },
  {
   "cell_type": "code",
   "execution_count": null,
   "metadata": {},
   "outputs": [],
   "source": [
    "from PyHEADTAIL.impedances.wakes import WakeField, CircularResistiveWall\n",
    "from PyHEADTAIL.particles.slicing import UniformBinSlicer"
   ]
  },
  {
   "cell_type": "code",
   "execution_count": null,
   "metadata": {},
   "outputs": [],
   "source": [
    "# responsible for binning the beam longitudinally:\n",
    "slicer = UniformBinSlicer(n_slices=40, n_sigma_z=3)"
   ]
  },
  {
   "cell_type": "code",
   "execution_count": null,
   "metadata": {},
   "outputs": [],
   "source": [
    "resistive_wall_wake = CircularResistiveWall(\n",
    "    pipe_radius=0.03,\n",
    "    resistive_wall_length=longitudinal_map_kwargs['circumference'],\n",
    "    conductivity=1.4e6,\n",
    "    dt_min=None,\n",
    "    n_turns_wake=1, \n",
    ")\n",
    "wakefield = WakeField(slicer, resistive_wall_wake)"
   ]
  },
  {
   "cell_type": "markdown",
   "metadata": {
    "slideshow": {
     "slide_type": "slide"
    }
   },
   "source": [
    "# Assembling the map around the SIS100 ring:"
   ]
  },
  {
   "cell_type": "code",
   "execution_count": null,
   "metadata": {},
   "outputs": [],
   "source": [
    "pyht_ring_elements = list(transverse_map) + [longitudinal_map, wakefield]"
   ]
  },
  {
   "cell_type": "markdown",
   "metadata": {},
   "source": [
    "<center>\n",
    "        <img src='images/sis100.jpg' alt='SIS100 layout' style='width: 50%;' />\n",
    "</center>"
   ]
  },
  {
   "cell_type": "markdown",
   "metadata": {
    "slideshow": {
     "slide_type": "slide"
    }
   },
   "source": [
    "# Initialising the particle bunch"
   ]
  },
  {
   "cell_type": "code",
   "execution_count": null,
   "metadata": {
    "slideshow": {
     "slide_type": "-"
    }
   },
   "outputs": [],
   "source": [
    "from PyHEADTAIL.particles.generators import generate_Gaussian6DTwiss\n",
    "\n",
    "from pyheadtail_setup import beam_kwargs"
   ]
  },
  {
   "cell_type": "code",
   "execution_count": null,
   "metadata": {},
   "outputs": [],
   "source": [
    "n_macroparticles = 2000\n",
    "intensity = 6.25e10\n",
    "\n",
    "np.random.seed(0)\n",
    "\n",
    "pyht_beam = generate_Gaussian6DTwiss(\n",
    "    macroparticlenumber=n_macroparticles,\n",
    "    intensity=intensity,\n",
    "    **beam_kwargs,\n",
    "    **transverse_map.get_injection_optics(\n",
    "        for_particle_generation=True),\n",
    ")"
   ]
  },
  {
   "cell_type": "markdown",
   "metadata": {
    "slideshow": {
     "slide_type": "subslide"
    }
   },
   "source": [
    "We'll give the bunch an initial kick:"
   ]
  },
  {
   "cell_type": "code",
   "execution_count": null,
   "metadata": {
    "slideshow": {
     "slide_type": "-"
    }
   },
   "outputs": [],
   "source": [
    "pyht_beam.y += 0.1 * pyht_beam.sigma_y()"
   ]
  },
  {
   "cell_type": "code",
   "execution_count": null,
   "metadata": {},
   "outputs": [],
   "source": [
    "slices0 = pyht_beam.get_slices(slicer, statistics=['mean_y'])\n",
    "\n",
    "resistive_wall_wake.dt_min = slices0.convert_to_time(slices0.slice_widths[0])"
   ]
  },
  {
   "cell_type": "markdown",
   "metadata": {
    "slideshow": {
     "slide_type": "slide"
    }
   },
   "source": [
    "# Let's go – simulating SIS100 in `PyHEADTAIL`:"
   ]
  },
  {
   "cell_type": "code",
   "execution_count": null,
   "metadata": {},
   "outputs": [],
   "source": [
    "n_turns = 10000\n",
    "\n",
    "my = np.zeros(n_turns, dtype=float)\n",
    "\n",
    "# loop over turns\n",
    "for i in range(n_turns):\n",
    "    # loop over elements around ring\n",
    "    for element in pyht_ring_elements:\n",
    "        element.track(pyht_beam)\n",
    "\n",
    "    # record vertical bunch centroid amplitude\n",
    "    my[i] = pyht_beam.mean_y()"
   ]
  },
  {
   "cell_type": "markdown",
   "metadata": {
    "slideshow": {
     "slide_type": "slide"
    }
   },
   "source": [
    "# Outcome of our simulation?"
   ]
  },
  {
   "cell_type": "code",
   "execution_count": null,
   "metadata": {},
   "outputs": [],
   "source": [
    "plt.plot(my * 1e3)\n",
    "plt.xlabel('Turns')\n",
    "plt.ylabel(r'$\\langle y \\rangle$ [mm]')\n",
    "plt.title('Vertical bunch centroid motion');"
   ]
  },
  {
   "cell_type": "markdown",
   "metadata": {},
   "source": [
    "$\\leadsto$ centre-of-mass of the bunch grows exponentially $\\implies$ **instability**!"
   ]
  },
  {
   "cell_type": "markdown",
   "metadata": {
    "slideshow": {
     "slide_type": "subslide"
    }
   },
   "source": [
    "Let's fit the exponential growth rate:"
   ]
  },
  {
   "cell_type": "code",
   "execution_count": null,
   "metadata": {
    "slideshow": {
     "slide_type": "-"
    }
   },
   "outputs": [],
   "source": [
    "growth_rate, _ = np.polyfit(np.arange(n_turns), np.log(my**2) / 2., 1)\n",
    "\n",
    "print ('growth time: {:.0f} turns ~ {:.3f} sec'.format(\n",
    "    1 / growth_rate, 1083.6 / (0.567 * 3e8) / growth_rate))"
   ]
  },
  {
   "cell_type": "code",
   "execution_count": null,
   "metadata": {
    "slideshow": {
     "slide_type": "subslide"
    }
   },
   "outputs": [],
   "source": [
    "plt.plot(my * 1e3)\n",
    "plt.plot(np.arange(n_turns), \n",
    "         max(abs(my[:10]))* 0.8 * 1e3 * \n",
    "         np.exp(growth_rate * np.arange(n_turns)),\n",
    "         ls='--')\n",
    "plt.xlabel('Turns')\n",
    "plt.ylabel(r'$\\langle y \\rangle$ [mm]')\n",
    "plt.title('Vertical bunch centroid motion');"
   ]
  },
  {
   "cell_type": "code",
   "execution_count": null,
   "metadata": {
    "slideshow": {
     "slide_type": "subslide"
    }
   },
   "outputs": [],
   "source": [
    "from imports import plot_intrabunch\n",
    "\n",
    "plot_intrabunch(pyht_ring_elements, pyht_beam, slicer, slices0)"
   ]
  },
  {
   "cell_type": "markdown",
   "metadata": {},
   "source": [
    "$\\implies$ indeed a rigid bunch mode, no nodes!"
   ]
  },
  {
   "cell_type": "markdown",
   "metadata": {
    "slideshow": {
     "slide_type": "slide"
    }
   },
   "source": [
    "# Common mitigation strategies for head-tail instabilities\n",
    "\n",
    "1. change **chromaticity**: sextupole magnets   \n",
    "2. Landau damping: **octupole** magnets\n",
    "3. linear **coupling**: skew quadrupole magnets\n",
    "4. active transverse **feedback** (damper)"
   ]
  },
  {
   "cell_type": "markdown",
   "metadata": {
    "slideshow": {
     "slide_type": "slide"
    }
   },
   "source": [
    "# Mitigation 1: Chromaticity\n",
    "\n",
    "- higher-order modes $=$ lower growth rate\n",
    "- for below (above) transition $\\rightarrow$ go to negative (positive) chromaticity\n",
    "- mode growth rates e.g. from Sacherer approach (1974)\n",
    "\n",
    "<center>\n",
    "    <img src='images/cps_modes_chroma.png' alt='CERN PS: mode growth rates vs. chromaticity' style='width: 50%;' />\n",
    "    <small>example CERN PS <br /> taken from <a href=\"https://cds.cern.ch/record/279023/files/ps-95-002.pdf\">R. Cappi, Observation of high-order head-tail instabilities at the CERN-PS, CERN/PS 95-02</a></small>\n",
    "</center>"
   ]
  },
  {
   "cell_type": "markdown",
   "metadata": {
    "slideshow": {
     "slide_type": "slide"
    }
   },
   "source": [
    "# Mitigation 2: Octupoles\n",
    "\n",
    "- detuning with transverse amplitude $=$ tune spread $\\leadsto$ Landau damping\n",
    "- dispersion relations to solve for stability diagrams\n",
    "\n",
    "<center>\n",
    "    <img src=\"images/kornilov_SD.png\" alt=\"SIS100 stability diagram for octupoles\" />\n",
    "    <small><a href=\"https://wiki.gsi.de/foswiki/pub/SIS100BD/MacTalksBD/Kornilov_MAC20b.pdf\">V. Kornilov on MAC20b</a> or PRSTAB 11, 014201 (2008)</small>\n",
    "</center>"
   ]
  },
  {
   "cell_type": "markdown",
   "metadata": {
    "slideshow": {
     "slide_type": "slide"
    }
   },
   "source": [
    "# Mitigation 3: Coupling\n",
    "\n",
    "- mix growth rates of transverse planes (e.g. CERN PS)\n",
    "- \"share\" Landau damping\n",
    "\n",
    "See e.g. [Métral, E. Theory of coupled Landau damping. Part. Accel., 62 (1999) 259. $\\nearrow$]( https://cds.cern.ch/record/380927/files/p259.pdf)"
   ]
  },
  {
   "cell_type": "markdown",
   "metadata": {
    "slideshow": {
     "slide_type": "slide"
    }
   },
   "source": [
    "# Mitigation 4: Damper"
   ]
  },
  {
   "cell_type": "markdown",
   "metadata": {},
   "source": [
    "Let's use the [foreseen SIS100 damper with $100$ turns $\\nearrow$](https://wiki.gsi.de/foswiki/pub/SIS100BD/MacTalksBD/Kornilov_MAC20b.pdf) to stabilise the previously simulated head-tail instability:"
   ]
  },
  {
   "cell_type": "code",
   "execution_count": null,
   "metadata": {},
   "outputs": [],
   "source": [
    "from PyHEADTAIL.feedback.transverse_damper import TransverseDamper\n",
    "\n",
    "damper = TransverseDamper(dampingrate_x=100, dampingrate_y=100)"
   ]
  },
  {
   "cell_type": "code",
   "execution_count": null,
   "metadata": {},
   "outputs": [],
   "source": [
    "pyht_ring_elements += [damper]"
   ]
  },
  {
   "cell_type": "markdown",
   "metadata": {
    "slideshow": {
     "slide_type": "slide"
    }
   },
   "source": [
    "### Continue simulation with damper on now:"
   ]
  },
  {
   "cell_type": "code",
   "execution_count": null,
   "metadata": {
    "slideshow": {
     "slide_type": "-"
    }
   },
   "outputs": [],
   "source": [
    "n_turns_2 = 1000\n",
    "\n",
    "my_2 = np.zeros(n_turns_2, dtype=float)\n",
    "\n",
    "# loop over turns\n",
    "for i in range(n_turns_2):\n",
    "    # loop over elements around ring\n",
    "    for element in pyht_ring_elements:\n",
    "        element.track(pyht_beam)\n",
    "\n",
    "    # record vertical bunch centroid amplitude\n",
    "    my_2[i] = pyht_beam.mean_y()"
   ]
  },
  {
   "cell_type": "markdown",
   "metadata": {
    "slideshow": {
     "slide_type": "slide"
    }
   },
   "source": [
    "# Outcome of our follow-up simulation?"
   ]
  },
  {
   "cell_type": "code",
   "execution_count": null,
   "metadata": {},
   "outputs": [],
   "source": [
    "plt.plot(np.concatenate((my, my_2)) * 1e3)\n",
    "plt.axvline(n_turns, color='black', ls='--')\n",
    "plt.text(n_turns, plt.ylim()[1] * 0.9, r'damper on $\\rightarrow$ ',\n",
    "         fontsize=20, ha='right', va='top', bbox={'facecolor': 'white', 'alpha': 0.5})\n",
    "plt.xlabel('Turns')\n",
    "plt.ylabel(r'$\\langle y \\rangle$ [mm]')\n",
    "plt.title('Vertical bunch centroid motion');"
   ]
  },
  {
   "cell_type": "markdown",
   "metadata": {},
   "source": [
    "$\\implies$ stabilised beam!"
   ]
  },
  {
   "cell_type": "markdown",
   "metadata": {
    "slideshow": {
     "slide_type": "slide"
    }
   },
   "source": [
    "$\\leadsto$ important: these `PyHEADTAIL` simulations are kept simple to be instructive, same model can be extended and used in higher resolution for proper study!"
   ]
  },
  {
   "cell_type": "markdown",
   "metadata": {
    "slideshow": {
     "slide_type": "slide"
    }
   },
   "source": [
    "# 3. `SixTrackLib`: symplectic non-linear 6D tracking"
   ]
  },
  {
   "cell_type": "markdown",
   "metadata": {
    "slideshow": {
     "slide_type": "slide"
    }
   },
   "source": [
    "GPU-enabled C templated code with Python API for simulating single-particle beam dynamics: [github repo $\\nearrow$](https://github.com/sixtrack/sixtracklib)\n",
    "\n",
    "$\\implies$ advanced non-linear thin-lens <span style=\"color:#00aad4;\">tracking</span>, no further approximations\n",
    "\n",
    "$\\implies$ approximative / simplified models for <span style=\"color:#aa0000;\">collective effect kicks</span>:\n",
    "- fixed frozen space charge\n",
    "- 4D and 6D beam-beam\n",
    "\n",
    "\n",
    "<center>\n",
    "<img src=\"images/tracking.png\" alt=\"tracking sketch\" style=\"width:30%;\"/>\n",
    "Example for tracking: <span style=\"color:#ff6701;\">dipoles</span> and <span style=\"color:#800000;\">(de-)</span><span style=\"color:#000080;\">focusing quadrupoles</span>\n",
    "</center>"
   ]
  },
  {
   "cell_type": "markdown",
   "metadata": {
    "slideshow": {
     "slide_type": "slide"
    }
   },
   "source": [
    "<img src=\"images/stl_pyht_workflow.png\" alt=\"SixTrackLib and PyHT workflow\" style=\"width: 80%; margin: auto;\" />"
   ]
  },
  {
   "cell_type": "code",
   "execution_count": null,
   "metadata": {
    "slideshow": {
     "slide_type": "slide"
    }
   },
   "outputs": [],
   "source": [
    "import pysixtrack\n",
    "import sixtracklib as stl\n",
    "\n",
    "from cpymad.madx import Madx"
   ]
  },
  {
   "cell_type": "markdown",
   "metadata": {
    "slideshow": {
     "slide_type": "slide"
    }
   },
   "source": [
    "## MAD-X part first"
   ]
  },
  {
   "cell_type": "code",
   "execution_count": null,
   "metadata": {},
   "outputs": [],
   "source": [
    "madx = Madx()\n",
    "madx.options.echo = False\n",
    "madx.options.warn = False\n",
    "madx.options.info = False"
   ]
  },
  {
   "cell_type": "markdown",
   "metadata": {
    "slideshow": {
     "slide_type": "subslide"
    }
   },
   "source": [
    "Define SIS100 lattice in MAD-X:"
   ]
  },
  {
   "cell_type": "code",
   "execution_count": null,
   "metadata": {},
   "outputs": [],
   "source": [
    "madx.call('./SIS100.seq')"
   ]
  },
  {
   "cell_type": "markdown",
   "metadata": {
    "slideshow": {
     "slide_type": "-"
    }
   },
   "source": [
    "Define SIS100 U${}^{28+}$ beam in MAD-X:"
   ]
  },
  {
   "cell_type": "code",
   "execution_count": null,
   "metadata": {},
   "outputs": [],
   "source": [
    "from sixtracklib_setup import *\n",
    "\n",
    "print ('mass = {:d}amu, charge = {:d}e, Ekin = {:.0f}MeV/u'.format(\n",
    "    A, Q, 1e-6 * Ekin_per_nucleon))"
   ]
  },
  {
   "cell_type": "code",
   "execution_count": null,
   "metadata": {},
   "outputs": [],
   "source": [
    "madx.command.beam(particle='ion', mass=A*nmass, charge=Q, energy=Etot);"
   ]
  },
  {
   "cell_type": "code",
   "execution_count": null,
   "metadata": {
    "slideshow": {
     "slide_type": "subslide"
    }
   },
   "outputs": [],
   "source": [
    "madx.input('''\n",
    "            kqd := -0.2798446835;\n",
    "            kqf := 0.2809756135;\n",
    "\n",
    "            K1NL_S00QD1D :=  kqd ;\n",
    "            K1NL_S00QD1F :=  kqf ;\n",
    "            K1NL_S00QD2F :=  kqf ;\n",
    "            K1NL_S52QD11 :=  1.0139780 * kqd ;\n",
    "            K1NL_S52QD12 :=  1.0384325 * kqf ;\n",
    "        ''');"
   ]
  },
  {
   "cell_type": "code",
   "execution_count": null,
   "metadata": {
    "slideshow": {
     "slide_type": "subslide"
    }
   },
   "outputs": [],
   "source": [
    "madx.use(sequence='sis100ring')\n",
    "\n",
    "assert madx.command.select(\n",
    "    flag='MAKETHIN',\n",
    "    class_='QUADRUPOLE',\n",
    "    slice_='9',\n",
    ")\n",
    "\n",
    "assert madx.command.select(\n",
    "    flag='MAKETHIN',\n",
    "    class_='SBEND',\n",
    "    slice_='9',\n",
    ")\n",
    "\n",
    "assert madx.command.makethin(\n",
    "    makedipedge=True,\n",
    "    style='teapot',\n",
    "    sequence='SIS100RING',\n",
    ")"
   ]
  },
  {
   "cell_type": "markdown",
   "metadata": {
    "slideshow": {
     "slide_type": "subslide"
    }
   },
   "source": [
    "Match tunes to $Q_x=18.84$, $Q_y=18.73$:"
   ]
  },
  {
   "cell_type": "code",
   "execution_count": null,
   "metadata": {},
   "outputs": [],
   "source": [
    "madx.use(sequence='sis100ring')\n",
    "\n",
    "madx.input('''\n",
    "match, sequence=SIS100RING;\n",
    "global, sequence=SIS100RING, q1=18.84, q2=18.73;\n",
    "vary, name=kqf, step=0.00001;\n",
    "vary, name=kqd, step=0.00001;\n",
    "lmdif, calls=500, tolerance=1.0e-10;\n",
    "endmatch;\n",
    "''');"
   ]
  },
  {
   "cell_type": "code",
   "execution_count": null,
   "metadata": {
    "slideshow": {
     "slide_type": "subslide"
    }
   },
   "outputs": [],
   "source": [
    "twiss = madx.twiss();\n",
    "\n",
    "print ('\\nQ1 = {:.2f} and Q2 = {:.2f}'.format(\n",
    "    twiss.summary['q1'], twiss.summary['q2']))"
   ]
  },
  {
   "cell_type": "markdown",
   "metadata": {
    "slideshow": {
     "slide_type": "slide"
    }
   },
   "source": [
    "## Now transfer SIS100 lattice to `PySixTrack`"
   ]
  },
  {
   "cell_type": "code",
   "execution_count": null,
   "metadata": {
    "slideshow": {
     "slide_type": "-"
    }
   },
   "outputs": [],
   "source": [
    "pysixtrack_elements = pysixtrack.Line.from_madx_sequence(\n",
    "    madx.sequence.sis100ring, \n",
    "    exact_drift=True, install_apertures=False,\n",
    ")"
   ]
  },
  {
   "cell_type": "markdown",
   "metadata": {},
   "source": [
    "`pysixtrack_elements.elements` is a python list, we can play with it..."
   ]
  },
  {
   "cell_type": "markdown",
   "metadata": {
    "slideshow": {
     "slide_type": "slide"
    }
   },
   "source": [
    "## Finally go to `SixTrackLib`"
   ]
  },
  {
   "cell_type": "markdown",
   "metadata": {},
   "source": [
    "Transfer lattice from `PySixTrack`:"
   ]
  },
  {
   "cell_type": "code",
   "execution_count": null,
   "metadata": {},
   "outputs": [],
   "source": [
    "elements = stl.Elements.from_line(pysixtrack_elements)\n",
    "\n",
    "nturns = 2**16\n",
    "elements.BeamMonitor(num_stores=nturns);"
   ]
  },
  {
   "cell_type": "markdown",
   "metadata": {},
   "source": [
    "And define particle set:"
   ]
  },
  {
   "cell_type": "code",
   "execution_count": null,
   "metadata": {},
   "outputs": [],
   "source": [
    "npart = 1\n",
    "particles = stl.Particles.from_ref(npart, p0c=p0c)"
   ]
  },
  {
   "cell_type": "code",
   "execution_count": null,
   "metadata": {},
   "outputs": [],
   "source": [
    "particles.x += 1e-6\n",
    "particles.y += 1e-6"
   ]
  },
  {
   "cell_type": "markdown",
   "metadata": {
    "slideshow": {
     "slide_type": "subslide"
    }
   },
   "source": [
    "The trackjob will define the simulation kernel for us:"
   ]
  },
  {
   "cell_type": "code",
   "execution_count": null,
   "metadata": {},
   "outputs": [],
   "source": [
    "job = stl.TrackJob(elements, particles, device=None)"
   ]
  },
  {
   "cell_type": "markdown",
   "metadata": {},
   "source": [
    "$\\leadsto$ note the `device` argument:\n",
    "\n",
    "this can be `'opencl:0.0'` for openCL parallelisation, e.g. for multi-core CPU or GPU!\n",
    "\n",
    "### Let's track to confirm the tunes from `MAD-X`:"
   ]
  },
  {
   "cell_type": "code",
   "execution_count": null,
   "metadata": {},
   "outputs": [],
   "source": [
    "job.track_until(nturns)\n",
    "job.collect()"
   ]
  },
  {
   "cell_type": "markdown",
   "metadata": {
    "slideshow": {
     "slide_type": "slide"
    }
   },
   "source": [
    "# Evaluation:"
   ]
  },
  {
   "cell_type": "code",
   "execution_count": null,
   "metadata": {},
   "outputs": [],
   "source": [
    "rec_x = job.output.particles[0].x\n",
    "rec_y = job.output.particles[0].y"
   ]
  },
  {
   "cell_type": "code",
   "execution_count": null,
   "metadata": {},
   "outputs": [],
   "source": [
    "plt.plot(rec_x[:128])\n",
    "plt.plot(rec_y[:128])"
   ]
  },
  {
   "cell_type": "code",
   "execution_count": null,
   "metadata": {
    "slideshow": {
     "slide_type": "subslide"
    }
   },
   "outputs": [],
   "source": [
    "from sixtracklib_setup import plot_tunes_from_stl_results\n",
    "\n",
    "plot_tunes_from_stl_results(twiss, job)"
   ]
  },
  {
   "cell_type": "markdown",
   "metadata": {},
   "source": [
    "$\\implies$ tunes are on top of MAD-X, perfect!"
   ]
  },
  {
   "cell_type": "markdown",
   "metadata": {
    "slideshow": {
     "slide_type": "slide"
    }
   },
   "source": [
    "# 4. Space Charge &amp; Resonances and 2nd Order Coherent Instabilities"
   ]
  },
  {
   "cell_type": "markdown",
   "metadata": {
    "slideshow": {
     "slide_type": "slide"
    }
   },
   "source": [
    "`SixTrackLib` provides extremely fast simulations!\n",
    "\n",
    "Including in the SIS100 model\n",
    "- full lattice (from [gitlab repo $\\nearrow$](https://git.gsi.de/sys/lattices/-/tree/master/SIS100/MADX))\n",
    "- non-linear, frozen 3D space charge\n",
    "- field error models until 7th order for dipole and quadrupole magnets\n",
    "    \n",
    "$~\\longrightarrow~$ scan 2D tune diagrams, $\\approx 2$min per simulation for 20'000 turns \n",
    "\n",
    "(on `virgo` cluster: 64 CPU cores or NVIDIA V100 GPU)"
   ]
  },
  {
   "cell_type": "markdown",
   "metadata": {
    "slideshow": {
     "slide_type": "slide"
    }
   },
   "source": [
    "# Non-linear magnet resonances + space charge\n",
    "\n",
    "$~\\Longrightarrow~$ study space charge limit in SIS100 for heavy-ion cycles:\n",
    "\n",
    "<center>\n",
    "    <img src=\"images/sis100_lossdiagram_h1.png\" alt=\"beam loss in tune diagram for SIS100\" />\n",
    "    <small>beam loss tune diagram for SIS100</small>\n",
    "</center>"
   ]
  },
  {
   "cell_type": "markdown",
   "metadata": {
    "slideshow": {
     "slide_type": "slide"
    }
   },
   "source": [
    "# Mitigation techniques\n",
    "\n",
    "1. correcting beta-beat\n",
    "2. double harmonic RF for bunch flattening\n",
    "3. electron lenses (to be studied)"
   ]
  },
  {
   "cell_type": "markdown",
   "metadata": {
    "slideshow": {
     "slide_type": "slide"
    }
   },
   "source": [
    "# Mitigation 1: Correcting Beta-beat\n",
    "\n",
    "No gradient errors in the quadrupole magnets (but all other non-linear field errors):\n",
    "\n",
    "<br />\n",
    "\n",
    "<center>\n",
    "    <img src=\"images/sis100_lossdiagram_h1_nobetabeat.png\" alt=\"beta-beat corrected beam loss tune diagram for SIS100\" />\n",
    "    <small>beam loss tune diagram for SIS100</small>\n",
    "</center>"
   ]
  },
  {
   "cell_type": "markdown",
   "metadata": {
    "slideshow": {
     "slide_type": "slide"
    }
   },
   "source": [
    "# Mitigation 2: Double Harmonic RF\n",
    "\n",
    "Double harmonic $\\implies$ flattened bunch profile $\\implies$ weaker space charge $\\implies$ more space in tune diagram\n",
    "\n",
    "<br />\n",
    "\n",
    "<center>\n",
    "<div style=\"width: 100%;\">\n",
    "    <div style=\"float: left; width: 50%;\">\n",
    "        <img src=\"images/sis100_lossdiagram_h1.png\" alt=\"single-harmonic beam loss in tune diagram for SIS100\" />\n",
    "        <small>single harmonic</small>\n",
    "    </div>\n",
    "    <div style=\"float: left; width: 50%;\">\n",
    "        <img src=\"images/sis100_lossdiagram_h2.png\" alt=\"double-harmonic beam loss in tune diagram for SIS100\" />\n",
    "        <small>double harmonic</small>\n",
    "    </div>\n",
    "</div>\n",
    "</center>"
   ]
  },
  {
   "cell_type": "markdown",
   "metadata": {
    "slideshow": {
     "slide_type": "slide"
    }
   },
   "source": [
    "# Compare space charge resonance behaviour\n",
    "\n",
    "With the new merger `SixHead` $=$ `SixTrackLib` + `PyHEADTAIL`:\n",
    "\n",
    "$\\implies$ compare frozen space charge models with self-consistent 3D particle-in-cell space charge:\n",
    "\n",
    "<br />\n",
    "\n",
    "<center>\n",
    "    <img src=\"images/induced-res.png\" alt=\"space charge model comparison\" style=\"max-width:80%;\" />\n",
    "    <small>1D tune scan across resonance</small>\n",
    "</center>"
   ]
  },
  {
   "cell_type": "markdown",
   "metadata": {
    "slideshow": {
     "slide_type": "slide"
    }
   },
   "source": [
    "# 2nd order (and higher) coherent instabilities\n",
    "\n",
    "Investigating 90deg stop-band for higher-order coherent instabilities in synchrotrons with `SixHead` (10'000 turns on GPU with 4 million macro-particles in 4h):\n",
    "    \n",
    "<br />\n",
    "\n",
    "<center>\n",
    "    <img src=\"images/3d-90deg.png\" alt=\"3D study on 90deg stop-band\" style=\"max-width:80%;\" />\n",
    "    <small>1D tune scan across resonance</small>\n",
    "</center>"
   ]
  },
  {
   "cell_type": "markdown",
   "metadata": {
    "slideshow": {
     "slide_type": "slide"
    }
   },
   "source": [
    "# ... so long and thanks for all the fish ..."
   ]
  },
  {
   "cell_type": "markdown",
   "metadata": {
    "slideshow": {
     "slide_type": "slide"
    }
   },
   "source": [
    "# Summary\n",
    "\n",
    "New suite `SixHead` consisting of:\n",
    "- symplectic 6D non-linear tracking with `SixTrackLib`\n",
    "- collective beam dynamics with `PyHEADTAIL` (wakefields, space charge, feedbacks)\n",
    "    \n",
    "is parallelised on:\n",
    "- multi-core CPU tracking\n",
    "- GPU\n",
    "\n",
    "and renders possible:\n",
    "- accurate, fast and flexible simulation studies for SIS18 and SIS100 for high-intensity operation"
   ]
  },
  {
   "cell_type": "markdown",
   "metadata": {
    "slideshow": {
     "slide_type": "slide"
    }
   },
   "source": [
    "# THANK YOU!"
   ]
  }
 ],
 "metadata": {
  "celltoolbar": "Slideshow",
  "kernelspec": {
   "display_name": "Python 3",
   "language": "python",
   "name": "python3"
  },
  "language_info": {
   "codemirror_mode": {
    "name": "ipython",
    "version": 3
   },
   "file_extension": ".py",
   "mimetype": "text/x-python",
   "name": "python",
   "nbconvert_exporter": "python",
   "pygments_lexer": "ipython3",
   "version": "3.7.3"
  },
  "rise": {
   "scroll": true,
   "transition": "fade"
  }
 },
 "nbformat": 4,
 "nbformat_minor": 4
}
